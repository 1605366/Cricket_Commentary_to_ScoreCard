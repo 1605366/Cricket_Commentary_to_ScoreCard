{
 "cells": [
  {
   "cell_type": "code",
   "execution_count": 67,
   "metadata": {},
   "outputs": [],
   "source": [
    "text = open(\"Data.txt\",\"r\").read()"
   ]
  },
  {
   "cell_type": "code",
   "execution_count": 68,
   "metadata": {},
   "outputs": [
    {
     "data": {
      "text/plain": [
       "'#End of Innings ##\\n19.6\\nChawla to Miller, no run, short ball, Miller cuts but finds the man at cover, KKR win by 28 runs\\n19.5\\nChawla to Miller, 2 runs, short and spinning away outside off stump, Miller cuts it to deep point\\n19.4\\nChawla to Mandeep, 1 run, quicker delivery on the stumps, Mandeep flicks it to long-on\\n19.3\\nChawla to Mandeep, FOUR, Chawla is only going to bowl googlies, so Mandeep moves across and scoops the ball over Lynn at short fine leg\\n19.2\\nChawla to Mandeep, 2 runs, googly again, Mandeep works it to mid-wicket and returns for the second\\n19.1\\nChawla to Mandeep, four, short googly, pulled away to deep mid-wicket, Uthappa runs to his right, gets to the ball but fumbles as he tries to hop and stop the ball\\n\\nPiyush Chawla [2.0-0-13-1] is back into the attack\\nSix legitimate deliveries is all KKR want\\n19\\n\\n18.6\\nFerguson to Miller, no run, slower delivery, beaten and Miller grunts\\n18.5\\nFerguson to Miller, SIX, now then, KXIP need seven more of these. But hey, this bloke has backed away to this full ball and somehow sliced this ball over backward point, normally you see the ball travel over cover, incredible hit\\n18.4\\nFerguson to Miller, 2 runs, slower delivery on the leg stump, tucked away towards mid-wicket, easy two. Fifty up for Miller, but no celebrations\\n18.3\\nFerguson to Mandeep, 1 run, very full and outside off stump, Mandeep drills it hard, Ferguson gets a hand on it and the ball rolls towards mid-off\\n18.2\\nFerguson to Mandeep, four, short delivery outside off stump, Mandeep stays back and cuts past backward point, third man doesn\\'t have a real go. Fours won\\'t do it for KXIP\\n18.1\\nFerguson to Miller, 1 run, oh brilliant yorker targetting Miller\\'s boots, dug out into the on-side, looks like that ball jammed the foot off the bat\\nMost sixes in an IPL match at the Eden Gardens\\n23* - tonight - KKR (17) and KXIP (6*)\\n20 - 16 Apr 2018 - KKR (25) and DD (5)\\n18.1\\nFerguson to Miller, wide, Ferguson begins with a wide down the leg-side\\n57 needed off 12. KKR have this in the bag\\n18\\n\\n17.6\\nPrasidh to Mandeep, FOUR, clever hit, short delivery rising steeply, Mandeep stays leg side of the ball and guides it over Karthik for a much needed boundary\\n17.5\\nPrasidh to Miller, 1 run, this is a short delivery that rushed onto Miller, the ball takes the splice of the bat and lands safely at mid-wicket, Kuldeep didn\\'t go for the catch, Dre Russ wanted him to sprint and attack the ball. Well, maybe Kuldeep has the World Cup on his mind. Wouldn\\'t want to dive and injure attempting a catch\\n17.4\\nPrasidh to Miller, no run, Miller will be kicking himself for missing out on this flick, would have normally put that over deep mid-wicket, the ball lobbed off the pad\\nDerick says: @Hemant... You mean Russell mode?\\n17.3\\nPrasidh to Miller, FOUR, low full toss, drilled hard between the sticks and the non-striker, Dre Russ can\\'t cut it off running from long-off\\n17.2\\nPrasidh to Mandeep, 1 run, full toss and Mandeep has only hit it straight to extra-cover, too much bottom hand there looking to power the ball, just needed to time it\\n17.1\\nPrasidh to Mandeep, no run, slower delivery on the shorter side, Mandeep plays the pull early and misses\\nPrasidh Krishna [3.0-0-32-0] is back into the attack\\nHemant says: Mr. Miller needs to turn carnival mode on. -- \" You mean festival of fours and sixes right?\"\\n17\\nMiller , Chawla , Kuldeep\\n16.6\\nFerguson to Mandeep, 1 run, oh this looked funny! Mandeep was attempting the pull shot through mid-wicket, ended up slicing it hard through point because of Ferguson\\'s extra pace\\n16.5\\nFerguson to Mandeep, 2 runs, friendly full toss, but Mandeep has mistimed this drive, chips it over to deep cover\\n16.4\\nFerguson to Miller, 1 run, short slower delivery, Miller swivels and helps it to short fine leg\\n16.3\\nFerguson to Miller, four, this is class batting, knows third man is inside the ring, as soon as Ferguson dropped the slower ball short, Miller was there to just guide in the gap wide of backward point\\nMiller will love pace on the ball from Ferguson, who is going to bowl round the wicket.\\n16.2\\nFerguson to Mandeep, 1 run, lovely timing again from Mandeep again, this time he slices this along the ground to deep cover-point\\n16.1\\nFerguson to Mandeep, Six, this is a lovely lofted off-drive, nothing better than this sort of a shot to get going. Length ball, nice pitch to bat on, so Mandeep hit through the line and collected a maximum\\nLockie Ferguson [2.0-0-12-1] is back into the attack\\n16\\n\\n15.6\\nChawla to Miller, no run, this is a very wide short ball, Miller tried to fetch the pull shot, missed, the ball sneaked under the under edge, Karthik was confident in his appeal, given out and Miller overturned the call by reviewing\\nMiller given out caught behind, but he\\'s reviewed it. Nothing on Snicko! NOT OUT.\\n15.5\\nChawla to Mandeep, 1 run, googly down the leg-side, Mandeep glances it to short fine leg\\n15.4\\nChawla to Miller, 1 run, Miller moves across knowing Chawla will only bowl wide outside off stump, tried to power this over long-on, but toe-ended it along the ground in the end\\n15.3\\nChawla to Mandeep, 1 run, wrong \\'un down the leg-side, Mandeep flicks it to backward square leg\\nMandeep Singh, right handed bat, comes to the crease\\n15.2\\nChawla to Agarwal, out Bowled!! The googly and it takes out the leg stump. Agarwal on one knee to slog-sweep it for six, but missed the ball completely and lost the pole. A fine fifty from Agarwal, but KXIP needed him to push a little more hard chasing 219. Agarwal b Chawla 58(34) [4s-6 6s-1]\\nChawla to Agarwal, THAT\\'S OUT!! Bowled!!\\n15.1\\nChawla to Miller, 1 run, shortish delivery outside off stump, punched to deep cover\\nPiyush Chawla [1.0-0-9-0] is back into the attack\\nHere\\'s a stat nugget from the legendary statguru Mohandas Menon\\n\\nMayank Agarwal\\'s last IPL fifty came on 1 May 2015 - 52* for DD v KXIP at Delhi - 21 innings ago! \\nHe now has four IPL 50s in 66 matches and 61 innings\\nTime-out time. A good partnership but Mayank has got to go really hard with Miller at the other end. 86 needed off 30 balls. Achievable, but will take some doing!\\n15\\nRuns Scored: 9\\n0 1 2 1 4 1\\nScore after 15 overs\\nKXIP 133-3\\nMiller 36(26)\\nAgarwal 58(33)\\nKuldeep Yadav\\n4-0-32-0\\n14.6\\nKuldeep Yadav to Miller, 1 run, spinning away outside off stump, Miller stays back and pushes it towards extra-cover\\n14.5\\nKuldeep Yadav to Miller, 4, down the track to drill this hard wide of short cover, Dre Russ slides and stops the ball, but was his back foot in touch with the rope when he was in contact with the ball? Third umpire checks, four it is\\nMani Chikkam says: \"A delight to watch M&M Show\"\\n14.4\\nKuldeep Yadav to Agarwal, 1 run, punched away to long-on\\n14.3\\nKuldeep Yadav to Agarwal, 2 runs, in the airrr, dropped, Rinku Singh the sub! Flighted delivery outside off stump, Agarwal steps out and reaches out to this widish delivery, sliced it, Rinku ran to his left and dived full length forward but it didn\\'t stick\\n14.2\\nKuldeep Yadav to Miller, 1 run, swept away uppishly to deep mid-wicket\\n14.1\\nKuldeep Yadav to Miller, no run, Miller moved across to target mid-wicket, but Kuldeep Yadav fired it flat and straight, forcing Miller to defend it back to the bowler\\nKuldeep Yadav [3.0-0-23-0] is back into the attack\\n14\\n\\n13.6\\nA Russell to Agarwal, 2 runs, very full, dug out literally and it rockets past Russell, long-off cuts it off and it\\'s another two. It was an over for couples\\n13.5\\nA Russell to Agarwal, no run, slower ball bouncer, Agarwal didn\\'t have the pace to ramp this ball, missed it completely, may not have gone to the fence even if he had made decent contact\\n13.4\\nA Russell to Agarwal, 2 runs, another soft nudge to the right deep mid-wicket this time for a couple of runs\\n13.3\\nA Russell to Agarwal, 2 runs, flicked wide of long-on, two is call and he\\'s home. Fifty for Agarwal, his 4th in IPL, good length delivery on the stumps, Agarwal hits the gap nicely on that occasion\\n13.2\\nA Russell to Agarwal, no run, short and rising, Agarwal stayed leg-side of the ball and tried to guide that away towards third man, missed\\n13.1\\nA Russell to Agarwal, 2 runs, nice slower delivery outside off stump, Mayank flicks through the vacant mid-wicket region, scampers back for the second\\nAndre Russell [2.0-0-13-2] is back into the attack\\n13\\n\\nChawla\\n1-0-9-0\\n12.6\\nChawla to Miller, 2 runs, short ball, the googly again, Miller pulls to deep mid-wicket, fumble from Kuldeep and Agarwal calls for the second run, gets home easily\\n12.5\\nChawla to Miller, no run, shortish and outside off stump, Miller mistimes the cut towards cover\\n12.4\\nChawla to Miller, no run, pushed into the off-side\\n12.3\\nChawla to Agarwal, leg byes, 1 run, quicker googly, the ball rolls behind square off the pad, missing leg\\n12.2\\nChawla to Agarwal, Six, oh these bats, modern day cricket, power, so cruel for the bowler. Quickish delivery on the leg stump, Agarwal was caught between a sweep shot and a pull shot, but he\\'s somehow sweetly muscled this to clear backward square leg\\n12.1\\nChawla to Miller, 1 run, googly that keeps a touch low, Miller cuts it to deep point\\nPiyush Chawla, right-arm leg break, comes into the attack\\n29 off the last 2 overs\\n12\\n\\nAgarwal 41(23)\\n\\n11.6\\nNarine to Agarwal, FOUR, and cheeky! Waits on it and opens the face of the blade to glide it away to deep third man for a four\\n11.5\\nNarine to Agarwal, FOUR, slapped! That was powered down the ground. Not too far from the bowler, not too far from the sticks and the ball escaped into the fence\\n11.4\\nNarine to Miller, 1 run, tucks the ball away into the on-side and calls of \\'two\\' were made but they settle for a single\\n11.3\\nNarine to Miller, four, smashes the ball away again. Shortish ball and has been pulled away past deep mid for a four\\n11.2\\nNarine to Miller, SIX, too full, the leverage was there and he has muscled it over the bowler\\'s head for a towering sixer. Massive hit from Killer Miller\\n11.1\\nNarine to Miller, no run, the offie, turning away, misses as he tries to drive it\\nGirish Wadhwa says: \"KXIP has the whole game on Miller\\'s shoulders.\" - Two words: \\'Batting Depth\\'\\n11\\n)\\nKuldeep Yadav\\n3-0-23-0\\n10.6\\nKuldeep Yadav to Miller, 1 run, dropped chance? Or runs saved? Lockie Ferguson at deep backward square popped the ball up trying to catch it and then flicked the ball back into the playing area while his body toppled over the cushion. But he did well to stop it. The fence was on his mind and hence he dropped it thinking he will trip over. That was flighted and Miller again had picked up the slog sweep option to disperse the ball away\\n10.5\\nKuldeep Yadav to Miller, 6, and the sweep gets him out of jail. Emphatically. Knelt down and smacked it. The bat made a massive noise as it met the ball. The ball whistled over deep mid\\n10.4\\nKuldeep Yadav to Miller, no run, lucky! Slower delivery at 76kph and Miller was through with his cut shot too early. Gets a big inside edge which misses the sticks by a few inches\\n10.3\\nKuldeep Yadav to Agarwal, 1 run, spins in and has been tucked off the pads for a single to deep mid\\n10.3\\nKuldeep Yadav to Agarwal, wide, helium on that delivery as it was floated up too much. But was dished out too wide. Wided\\n10.2\\nKuldeep Yadav to Miller, 1 run, too full, on the pads, unsweepable length ( trying to lexicograph), clipped to deep mid for a single\\n10.1\\nKuldeep Yadav to Miller, no run, fuller and pushed back to the bowler off the full face of the bat\\nCricbuzz Comm Box- Match 6, Kolkata v Punjab, 2nd inn, Over No.10\\n\\nCricbuzz Comm Box- Match 6, Kolkata v Punjab, 2nd inn, Over No.10\\nTweetShareCopy URL\\n10\\n\\nScore after 10 overs\\nKXIP 77-3\\nAgarwal 32(20)\\nMiller 8(9)\\n\\n9.6\\nNarine to Agarwal, FOUR, a whippy sweep-type-clip off the pads as it was too full for Agarwal to abort his attempted sweep. So, he bent a little and whipped it away past the dive of the deep square leg fielder for a four. The rate required is now 14.2\\n9.5\\nNarine to Miller, 1 run, flatter delivery and has been powered away flat on to the on-side for a single to deep mid\\n9.4\\nNarine to Agarwal, 1 run, the offie again, dips in and has been tucked down to long-on for a single\\nDK rings a few quick changes in the field.\\n9.3\\nNarine to Miller, 1 run, enough of the off-side play. Drags the ball away into the on-side. Courtesy - a sweep\\n9.2\\nNarine to Miller, no run, loopy, slightly shortish, grips a bit and Miller misses the cut\\n9.1\\nNarine to Miller, no run, starts with an offie in his 100th IPL game. Miller jabs at it and misses\\nSunil Narine, right-arm off break, comes into the attack\\nTime-out. A no-ball for three men inside the circle. An overthrow picked up late. Events and KXIP have tied the knot this year. But this ceremony today hasn\\'t been a smooth one. Three down for 70 at almost the half-way mark while chasing 200 plus isn\\'t an ideal case. But the adage -- if it\\'s in the arc, it\\'s out of the park still lives on with Miller still being there. Can him and Agarwal turn it around? Here is Narine into the attack after the break.\\nSmit Chhadva says: \"KXIP teaching us all the rules this season. Mankading, fielders limitation outside circle and now overthrow if ball is not dead.\"\\n9\\nTotal score: \\nKuldeep Yadav\\n2-0-13-0\\n8.6\\nKuldeep Yadav to Miller, 1 run, charges out, drives the ball down to long-on and gets a single\\n8.5\\nKuldeep Yadav to Miller, FOUR, when in doubt, sweep! Did so of late against Lanka in the T20Is and now also repeating the same. Knelt down and swept it in front of square for a four\\n8.4\\nKuldeep Yadav to Miller, no run, another googly and has been misread. Off the inner half of the bat to short mid\\n8.3\\nKuldeep Yadav to Agarwal, 1 run, shortish delivery and has been chopped out to deep cover for a single\\n8.3\\nKuldeep Yadav to Agarwal, wide, too wide. Spills the googly too wide outside off and was wided as Agarwal left it alone\\n8.2\\nKuldeep Yadav to Miller, 1 run, tossed up delivery and has been driven down to long-off for a single. The required rate now is closing in on 14\\n8.1\\nKuldeep Yadav to Agarwal, 1 run, shortish delivery outside off and has been chopped down to deep cover for a single\\n8\\nRuns Scored: 6\\n1 4 W 0 1 0\\n\\n7.6\\nA Russell to Miller, no run, on the pads, on a length and Miller misses the tuck\\n7.5\\nA Russell to Agarwal, 1 run, tucked off the pads, short fine leg picks it up. Single taken\\n7.4\\nA Russell to Agarwal, no run, bangs the short ball in, Agarwal ducks down to stay away from harm\\'s way\\nDavid Miller, left handed bat, comes to the crease\\n7.3\\nA Russell to Sarfaraz Khan, out Caught by Karthik!! Slower delivery gets the scalp here. That was down leg, Sarfaraz Khan ended up closing the face of the bat a bit too early and the leading edge was taken by the keeper, who moved to his left by quite a few paces to take it. Dre Russ continues his impact on this game. And have the deliveries started to hold on more now? Might well be the case. Sarfaraz Khan c Karthik b A Russell 13(13) [4s-2]\\nA Russell to Sarfaraz Khan, THAT\\'S OUT!! Caught!!\\n7.2\\nA Russell to Sarfaraz Khan, FOUR, what lovely timing! Shortish delivery outside off and has been chopped behind point for a four. That was just touched and it ran away\\n7.1\\nA Russell to Agarwal, 1 run, tucks a length delivery and they get a single into the mid-wicket region\\nAndre Russell [1.0-0-7-1] is back into the attack\\nAnother piece of controversy? DK handled it pretty well. The third umpire I guess decided that the throw was made with the ball still in play. And hence four overthrows were awarded.\\n7\\n\\nRuns:\\n6.6\\nKuldeep Yadav to Agarwal, 1 run, flatter delivery outside off and has been stabbed down to long-off for a single\\n6.5\\nKuldeep Yadav to Sarfaraz Khan, 1 run, front of the hand quicker ball and has been dug out into the on-side for a single\\n6.4\\nKuldeep Yadav to Sarfaraz Khan, no run, another googly. Third one of the over. Sarfaraz Khan throws his bat at it and misses. Close to the edge it was\\n6.3\\nKuldeep Yadav to Agarwal, 1 run, little glue certainly on the wicket as the ball hangs on a little longer for the batter to wait to cut it away\\n6.2\\nKuldeep Yadav to Sarfaraz Khan, 1 run, looks to sweep and gets a top-edge. The spinner gets the ball to grip straightaway. Top-edge lands safe and the man at short third cuts it off\\n6.1\\nKuldeep Yadav to Sarfaraz Khan, no run, stays back and chops the ball down into the off-side to find point\\nKuldeep Yadav, left-arm chinaman, comes into the attack\\n6\\n12121221221212212\\n5.6\\nPrasidh to Sarfaraz Khan, 1 run, steered away down to third man\\n5.5\\nPrasidh to Agarwal, 1 run, full and homing into off and middle, Mayank gets a soft leading edge on the flick, nabs a quick single on the off-side\\n5.4\\nPrasidh to Sarfaraz Khan, 1 run, pushed away into the off-side\\n5.3\\nPrasidh to Sarfaraz Khan, no run, length delivery and decks in, pushed into the deck\\n5.2\\nPrasidh to Sarfaraz Khan, no run, shortish ball outside off and has been left alone\\n5.1\\nPrasidh to Agarwal, 5 runs, a little pause in play. The crowd has also found its voice. There is something that has ooccured which we aren\\'t aware of. Overthrow is it? The on-field umpires have got together. Karthik looks animated. Uthappa and few others have gathered around the umpires. Ashwin is along the boundary line trying to figure out what happened. The umpire has signalled it a four. But Sarfaraz Khan is still on strike. We will figure it out as the game progresses. And we have figured out what happened. The throw from covers was thrown at Dre Russ and he missed it in the lights for the ball to run away into the fence\\nPrasidh Krishna [2.0-0-24-0] is back into the attack\\n5\\n\\n\\n4.6\\nA Russell to Agarwal, 1 run, on the pads and has been tucked away into the on-side for a single\\n4.5\\nA Russell to Sarfaraz Khan, 1 run, the ball sticks on to the wicket a bit and has been pushed away into the covers for a single\\n4.4\\nA Russell to Sarfaraz Khan, four, uncanny? Usual Sarfaraz Khan stuff as he sits down on both knees and upper-steers it. Risky but effective\\n4.3\\nA Russell to Sarfaraz Khan, no run, sharp in-ducker at 137kph and Sarfaraz Khan misses the tuck. There was a huge appeal from Russell but that was high and going down\\nSarfaraz Khan, right handed bat, comes to the crease\\n4.2\\nA Russell to Gayle, out Caught by Prasidh! What can\\'t you do DreRuss? Have you got a deal cut out with the God of fortune? A short one at the body, not particularly quick @130.8km/h, Gayle gets his weight on the backfoot to pull it away, but with that bat-face turning upwards, gets it off the splice, skywards, as Prasidh runs in to pick it up at mid-on. Huge moment in the game, as both the openers depart. Gayle c Prasidh b A Russell 20(13) [4s-2 6s-2]\\nA Russell to Gayle, THAT\\'S OUT!! Caught!!\\n4.1\\nA Russell to Agarwal, 1 run, short of length delivery angling in towards off-stump, glided with a hop to get on top of it towards third man for a single\\nAndre Russell, right-arm fast, comes into the attack\\nLavan Kumar says: What it would be if Narine, Gayle and Russell are in the same IPL team? -- \"Why dream about nightmares?\"\\n4\\n\\n3.6\\nFerguson to Gayle, SIX, 142.9km/h, doesn\\'t take the pace off this time, short one on the stumps, but Gayle\\'s trigger is to back away into the on-side - he\\'s absolutely clubbed that, cross-batted, over the long-on fence for six. A fantastic first four balls, spoiled by the last two balls...\\n3.5\\nFerguson to Gayle, FOUR, short of length delivery on the stump, 115.9km/h, Gayle clears that leg and clubs it off the toe-end just over mid-on to the long-on fence for four\\n3.4\\nFerguson to Gayle, no run, yorker length delivery, inch-perfect, 148.2km/h, digs it out off the toe-end\\n3.3\\nFerguson to Gayle, no run, slower delivery on a good length heading for middle, Gayle delays his defence from the crease back down the wicket\\n3.3\\nFerguson to Gayle, wide, 148.1km/h, wide down leg, swings away after the ball crosses the batsman\\'s missed flick and swerves to the left of the \\'keeper who has done well to collect it\\n3.2\\nFerguson to Gayle, no run, a short one at the body, Gayle is early into the pull - not very slow @142.7km/h, and he misses it completely. Loses his shape, in complete disarray...\\n3.1\\nFerguson to Gayle, no run, 142.5km/h, pitching outside leg, seaming away from the left-hander from over the wicket, Gayle is squared up from a closed stance and is beaten on the outside edge by a long way\\n3\\n,,\\n,\\n,\\n,...~\\n2.6\\nPrasidh to Agarwal, FOUR, 149.2km/h, really quick, but strays on the pads, a full-toss, whipped away to the deep mid-wicket boundary for four. Easy pickings\\n2.5\\nPrasidh to Agarwal, no run, slower one, short of length wide outside off, 104.8km/h (Jadeja bowled one at 106 the other night), and backs away into the leg-side to flash at it but is deceived by the slower one - leaves it alone in the end\\n2.4\\nPrasidh to Agarwal, no run, 146km/h, short of length delivery without much width of note, Agarwal hops up onto the backfoot and drops it into the off-side\\n2.3\\nPrasidh to Agarwal, no run, good length delivery in the channel outside off, Agarwal gets back, opens the face, and steers it straight to point\\n2.2\\nPrasidh to Agarwal, four, oh that is laced! Backs away into the on-side, picks up the length ball on off-stump, and absolutely flays that over the in-field to the deep extra cover fence for four\\n2.1\\nPrasidh to Agarwal, FOUR, 142.7km/h, length delivery angling into the pads, towards middle, Agarwal shuffles across and closes the face at the last moment whilst on the backfoot to guide it away towards the deep square leg boundary for four\\n2.1\\nPrasidh to Agarwal, wide, short of length delivery angling down leg, rising steeply, Agarwal misses the glance off a hop and that\\'s a wide down leg-side\\n2\\n\\n,,,,, 2nd over\\n\\n\\n1.6\\nFerguson to Gayle, no run, short of length delivery hurrying Gayle up, well-directed, Gayle is swiftly onto the backfoot to defend it solidly back to the bowler\\n1.5\\nFerguson to Agarwal, 1 run, back of a length delivery marginally outside off, 141.8km/h, Agarwal steers it down to third man off the backfoot for a single\\nMayank Agarwal, right handed bat, comes to the crease\\n1.4\\nFerguson to Rahul, out Caught by Kuldeep Yadav! An abomination fo a shot for an Indian Test opener. Rahul backs away into the on-side, picks up a length ball from middle-stump, 145.7km/h, and tries to run his hands through the ball in chipping it over mid-off, miscues and and ends up lobbing it straight to the man at mid-off, succumbing in a rather soft manner. That was pressure. Pressure talking. Rahul c Kuldeep Yadav b Ferguson 1(5)\\nFerguson to Rahul, THAT\\'S OUT!! Caught!!\\n1.3\\nFerguson to Rahul, no run, short and wide outside off, 140.1km/h, Rahul sets himself up for the cut, flashes, misses\\n1.2\\nFerguson to Rahul, no run, 143.1km/h, short of length delivery angling in at the ribs, Rahul hops up on the crease, drops it with a downward-facing face into the on-side\\n1.1\\nFerguson to Rahul, no run, 143.7km/h, fuller length delivery on off-stump, Rahul walks at it and punches it back to the bowler\\nLockie Ferguson, right-arm fast, comes into the attack\\n1\\n## End of 1st over\\n0.6\\nPrasidh to Gayle, no run, another sharp short one on the body, 144km/h, Gayle tries backing away into the on-side for leverage on the pull, but it sails over him\\nShahryaar Mirza says: If there is anybody in the world who could give this run-chase a life, it\\'s Christopher Henry Gayle! Be ready, the Gayle Storm is on its way!\\n0.5\\nPrasidh to Gayle, FOUR, short of length delivery rising steeply outside off, Gayle backs away and tries carving it away through the point regio, gets a massive top-edge over slip for a boundary to third man\\n0.4\\nPrasidh to Gayle, no run, 145.4km/h, that\\'s better, good length delivery angling across, Gayle has his feet rooted and tries to swing that over long-off, misses\\n0.3\\nPrasidh to Gayle, SIX, 145.1km/h, too short and too wide, Gayle has no interest in it until the ball is almost parallel to him, no unnecessary movement, just gets under it and upper-cuts it over third man for six!\\n0.2\\nPrasidh to Gayle, no run, short of length delivery on middle and leg, Gayle opens up and pokes it away off the backfoot towards point with an open face\\n0.1\\nPrasidh to Rahul, 1 run, back of a length delivery on the thigh, tucked away in front of square leg for a quick single'"
      ]
     },
     "execution_count": 68,
     "metadata": {},
     "output_type": "execute_result"
    }
   ],
   "source": [
    "text"
   ]
  },
  {
   "cell_type": "code",
   "execution_count": 69,
   "metadata": {},
   "outputs": [],
   "source": [
    "documents = []\n",
    "\n",
    "for r in text.split('\\n'):\n",
    "    documents.append( r )"
   ]
  },
  {
   "cell_type": "markdown",
   "metadata": {},
   "source": []
  },
  {
   "cell_type": "code",
   "execution_count": null,
   "metadata": {},
   "outputs": [],
   "source": []
  },
  {
   "cell_type": "code",
   "execution_count": 62,
   "metadata": {},
   "outputs": [],
   "source": [
    "import re"
   ]
  },
  {
   "cell_type": "code",
   "execution_count": 63,
   "metadata": {},
   "outputs": [
    {
     "data": {
      "text/plain": [
       "'E'"
      ]
     },
     "execution_count": 63,
     "metadata": {},
     "output_type": "execute_result"
    }
   ],
   "source": [
    "text[1]"
   ]
  },
  {
   "cell_type": "code",
   "execution_count": 44,
   "metadata": {},
   "outputs": [],
   "source": [
    "ball = re.findall(r'\\n([0-9].[1-6]|[1-2][0-9].[1-6])\\n',text)"
   ]
  },
  {
   "cell_type": "code",
   "execution_count": 45,
   "metadata": {},
   "outputs": [
    {
     "data": {
      "text/plain": [
       "['19.6',\n",
       " '19.5',\n",
       " '19.4',\n",
       " '19.3',\n",
       " '19.2',\n",
       " '19.1',\n",
       " '18.6',\n",
       " '18.5',\n",
       " '18.4',\n",
       " '18.3',\n",
       " '18.2',\n",
       " '18.1',\n",
       " '18.1',\n",
       " '17.6',\n",
       " '17.5',\n",
       " '17.4',\n",
       " '17.3',\n",
       " '17.2',\n",
       " '17.1',\n",
       " '16.6',\n",
       " '16.5',\n",
       " '16.4',\n",
       " '16.3',\n",
       " '16.2',\n",
       " '16.1',\n",
       " '15.6',\n",
       " '15.5',\n",
       " '15.4',\n",
       " '15.3',\n",
       " '15.2',\n",
       " '15.1',\n",
       " '14.6',\n",
       " '14.5',\n",
       " '14.4',\n",
       " '14.3',\n",
       " '14.2',\n",
       " '14.1',\n",
       " '13.6',\n",
       " '13.5',\n",
       " '13.4',\n",
       " '13.3',\n",
       " '13.2',\n",
       " '13.1',\n",
       " '12.6',\n",
       " '12.5',\n",
       " '12.4',\n",
       " '12.3',\n",
       " '12.2',\n",
       " '12.1',\n",
       " '11.6',\n",
       " '11.5',\n",
       " '11.4',\n",
       " '11.3',\n",
       " '11.2',\n",
       " '11.1',\n",
       " '10.6',\n",
       " '10.5',\n",
       " '10.4',\n",
       " '10.3',\n",
       " '10.3',\n",
       " '10.2',\n",
       " '10.1',\n",
       " '9.6',\n",
       " '9.5',\n",
       " '9.4',\n",
       " '9.3',\n",
       " '9.2',\n",
       " '9.1',\n",
       " '8.6',\n",
       " '8.5',\n",
       " '8.4',\n",
       " '8.3',\n",
       " '8.3',\n",
       " '8.2',\n",
       " '8.1',\n",
       " '7.6',\n",
       " '7.5',\n",
       " '7.4',\n",
       " '7.3',\n",
       " '7.2',\n",
       " '7.1',\n",
       " '6.6',\n",
       " '6.5',\n",
       " '6.4',\n",
       " '6.3',\n",
       " '6.2',\n",
       " '6.1',\n",
       " '5.6',\n",
       " '5.5',\n",
       " '5.4',\n",
       " '5.3',\n",
       " '5.2',\n",
       " '5.1',\n",
       " '4.6',\n",
       " '4.5',\n",
       " '4.4',\n",
       " '4.3',\n",
       " '4.2',\n",
       " '4.1',\n",
       " '3.6',\n",
       " '3.5',\n",
       " '3.4',\n",
       " '3.3',\n",
       " '3.3',\n",
       " '3.2',\n",
       " '3.1',\n",
       " '2.6',\n",
       " '2.5',\n",
       " '2.4',\n",
       " '2.3',\n",
       " '2.2',\n",
       " '2.1',\n",
       " '2.1',\n",
       " '1.6',\n",
       " '1.5',\n",
       " '1.4',\n",
       " '1.3',\n",
       " '1.2',\n",
       " '1.1',\n",
       " '0.6',\n",
       " '0.5',\n",
       " '0.4',\n",
       " '0.3',\n",
       " '0.2',\n",
       " '0.1']"
      ]
     },
     "execution_count": 45,
     "metadata": {},
     "output_type": "execute_result"
    }
   ],
   "source": [
    "ball"
   ]
  },
  {
   "cell_type": "code",
   "execution_count": 53,
   "metadata": {},
   "outputs": [],
   "source": [
    "df = re.findall(r'\\n([0-9].[1-6]|[1-2][0-9].[1-6])\\n',text)"
   ]
  },
  {
   "cell_type": "code",
   "execution_count": 65,
   "metadata": {},
   "outputs": [],
   "source": [
    "sent = []\n",
    "for i in text:\n",
    "    if i in ball:\n",
    "        sent.append(text[i+1])"
   ]
  },
  {
   "cell_type": "code",
   "execution_count": 66,
   "metadata": {},
   "outputs": [
    {
     "data": {
      "text/plain": [
       "[]"
      ]
     },
     "execution_count": 66,
     "metadata": {},
     "output_type": "execute_result"
    }
   ],
   "source": [
    "sent"
   ]
  },
  {
   "cell_type": "code",
   "execution_count": null,
   "metadata": {},
   "outputs": [],
   "source": [
    "df = re.findall(ball)"
   ]
  },
  {
   "cell_type": "code",
   "execution_count": 55,
   "metadata": {},
   "outputs": [],
   "source": []
  }
 ],
 "metadata": {
  "kernelspec": {
   "display_name": "Python 3",
   "language": "python",
   "name": "python3"
  },
  "language_info": {
   "codemirror_mode": {
    "name": "ipython",
    "version": 3
   },
   "file_extension": ".py",
   "mimetype": "text/x-python",
   "name": "python",
   "nbconvert_exporter": "python",
   "pygments_lexer": "ipython3",
   "version": "3.6.5"
  }
 },
 "nbformat": 4,
 "nbformat_minor": 2
}
